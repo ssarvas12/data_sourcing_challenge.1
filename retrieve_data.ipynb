{
 "cells": [
  {
   "cell_type": "markdown",
   "metadata": {},
   "source": [
    "### Import Required Libraries and Set Up Environment Variables"
   ]
  },
  {
   "cell_type": "code",
   "execution_count": 7,
   "metadata": {},
   "outputs": [],
   "source": [
    "# Dependencies\n",
    "import requests\n",
    "import time\n",
    "from dotenv import load_dotenv\n",
    "import os\n",
    "import pandas as pd\n",
    "import json\n",
    "import os\n",
    "from datetime import datetime\n",
    "## Load the NASA_API_KEY from the env file\n",
    "load_dotenv()\n",
    "NASA_API_KEY = os.getenv('R9MfW9P16td8abYzgxKTv5Ba7QRj5ec68cwUXvyV')"
   ]
  },
  {
   "cell_type": "markdown",
   "metadata": {},
   "source": [
    "### CME Data"
   ]
  },
  {
   "cell_type": "code",
   "execution_count": 8,
   "metadata": {
    "scrolled": true
   },
   "outputs": [],
   "source": [
    "# Set the base URL to NASA's DONKI API:\n",
    "base_url = \"https://api.nasa.gov/DONKI/\"\n",
    "\n",
    "# Set the specifier for CMEs:\n",
    "CME = \"CME\"\n",
    "\n",
    "# Search for CMEs published between a begin and end date\n",
    "startDate = \"2013-05-01\"\n",
    "endDate   = \"2024-05-01\"\n",
    "\n",
    "# Build URL for CME\n",
    "\n",
    "url = \"https://api.nasa.gov/DONKI/CME?startDate=2013-05-01&endDate=2024-05-01&api_key=R9MfW9P16td8abYzgxKTv5Ba7QRj5ec68cwUXvyV\"\n"
   ]
  },
  {
   "cell_type": "code",
   "execution_count": 9,
   "metadata": {},
   "outputs": [],
   "source": [
    "# Make a \"GET\" request for the CME URL and store it in a variable named cme_response\n",
    "\n",
    "cme_response = requests.get(url)\n",
    "\n",
    "cme_response\n"
   ]
  },
  {
   "cell_type": "code",
   "execution_count": 8,
   "metadata": {},
   "outputs": [
    {
     "ename": "JSONDecodeError",
     "evalue": "Expecting value: line 1 column 1 (char 0)",
     "output_type": "error",
     "traceback": [
      "\u001b[1;31m---------------------------------------------------------------------------\u001b[0m",
      "\u001b[1;31mJSONDecodeError\u001b[0m                           Traceback (most recent call last)",
      "File \u001b[1;32mc:\\Users\\ssarv\\anaconda3\\Lib\\site-packages\\requests\\models.py:974\u001b[0m, in \u001b[0;36mResponse.json\u001b[1;34m(self, **kwargs)\u001b[0m\n\u001b[0;32m    973\u001b[0m \u001b[38;5;28;01mtry\u001b[39;00m:\n\u001b[1;32m--> 974\u001b[0m     \u001b[38;5;28;01mreturn\u001b[39;00m complexjson\u001b[38;5;241m.\u001b[39mloads(\u001b[38;5;28mself\u001b[39m\u001b[38;5;241m.\u001b[39mtext, \u001b[38;5;241m*\u001b[39m\u001b[38;5;241m*\u001b[39mkwargs)\n\u001b[0;32m    975\u001b[0m \u001b[38;5;28;01mexcept\u001b[39;00m JSONDecodeError \u001b[38;5;28;01mas\u001b[39;00m e:\n\u001b[0;32m    976\u001b[0m     \u001b[38;5;66;03m# Catch JSON-related errors and raise as requests.JSONDecodeError\u001b[39;00m\n\u001b[0;32m    977\u001b[0m     \u001b[38;5;66;03m# This aliases json.JSONDecodeError and simplejson.JSONDecodeError\u001b[39;00m\n",
      "File \u001b[1;32mc:\\Users\\ssarv\\anaconda3\\Lib\\site-packages\\simplejson\\__init__.py:514\u001b[0m, in \u001b[0;36mloads\u001b[1;34m(s, encoding, cls, object_hook, parse_float, parse_int, parse_constant, object_pairs_hook, use_decimal, allow_nan, **kw)\u001b[0m\n\u001b[0;32m    510\u001b[0m \u001b[38;5;28;01mif\u001b[39;00m (\u001b[38;5;28mcls\u001b[39m \u001b[38;5;129;01mis\u001b[39;00m \u001b[38;5;28;01mNone\u001b[39;00m \u001b[38;5;129;01mand\u001b[39;00m encoding \u001b[38;5;129;01mis\u001b[39;00m \u001b[38;5;28;01mNone\u001b[39;00m \u001b[38;5;129;01mand\u001b[39;00m object_hook \u001b[38;5;129;01mis\u001b[39;00m \u001b[38;5;28;01mNone\u001b[39;00m \u001b[38;5;129;01mand\u001b[39;00m\n\u001b[0;32m    511\u001b[0m         parse_int \u001b[38;5;129;01mis\u001b[39;00m \u001b[38;5;28;01mNone\u001b[39;00m \u001b[38;5;129;01mand\u001b[39;00m parse_float \u001b[38;5;129;01mis\u001b[39;00m \u001b[38;5;28;01mNone\u001b[39;00m \u001b[38;5;129;01mand\u001b[39;00m\n\u001b[0;32m    512\u001b[0m         parse_constant \u001b[38;5;129;01mis\u001b[39;00m \u001b[38;5;28;01mNone\u001b[39;00m \u001b[38;5;129;01mand\u001b[39;00m object_pairs_hook \u001b[38;5;129;01mis\u001b[39;00m \u001b[38;5;28;01mNone\u001b[39;00m\n\u001b[0;32m    513\u001b[0m         \u001b[38;5;129;01mand\u001b[39;00m \u001b[38;5;129;01mnot\u001b[39;00m use_decimal \u001b[38;5;129;01mand\u001b[39;00m \u001b[38;5;129;01mnot\u001b[39;00m allow_nan \u001b[38;5;129;01mand\u001b[39;00m \u001b[38;5;129;01mnot\u001b[39;00m kw):\n\u001b[1;32m--> 514\u001b[0m     \u001b[38;5;28;01mreturn\u001b[39;00m _default_decoder\u001b[38;5;241m.\u001b[39mdecode(s)\n\u001b[0;32m    515\u001b[0m \u001b[38;5;28;01mif\u001b[39;00m \u001b[38;5;28mcls\u001b[39m \u001b[38;5;129;01mis\u001b[39;00m \u001b[38;5;28;01mNone\u001b[39;00m:\n",
      "File \u001b[1;32mc:\\Users\\ssarv\\anaconda3\\Lib\\site-packages\\simplejson\\decoder.py:386\u001b[0m, in \u001b[0;36mJSONDecoder.decode\u001b[1;34m(self, s, _w, _PY3)\u001b[0m\n\u001b[0;32m    385\u001b[0m     s \u001b[38;5;241m=\u001b[39m \u001b[38;5;28mstr\u001b[39m(s, \u001b[38;5;28mself\u001b[39m\u001b[38;5;241m.\u001b[39mencoding)\n\u001b[1;32m--> 386\u001b[0m obj, end \u001b[38;5;241m=\u001b[39m \u001b[38;5;28mself\u001b[39m\u001b[38;5;241m.\u001b[39mraw_decode(s)\n\u001b[0;32m    387\u001b[0m end \u001b[38;5;241m=\u001b[39m _w(s, end)\u001b[38;5;241m.\u001b[39mend()\n",
      "File \u001b[1;32mc:\\Users\\ssarv\\anaconda3\\Lib\\site-packages\\simplejson\\decoder.py:416\u001b[0m, in \u001b[0;36mJSONDecoder.raw_decode\u001b[1;34m(self, s, idx, _w, _PY3)\u001b[0m\n\u001b[0;32m    415\u001b[0m         idx \u001b[38;5;241m+\u001b[39m\u001b[38;5;241m=\u001b[39m \u001b[38;5;241m3\u001b[39m\n\u001b[1;32m--> 416\u001b[0m \u001b[38;5;28;01mreturn\u001b[39;00m \u001b[38;5;28mself\u001b[39m\u001b[38;5;241m.\u001b[39mscan_once(s, idx\u001b[38;5;241m=\u001b[39m_w(s, idx)\u001b[38;5;241m.\u001b[39mend())\n",
      "\u001b[1;31mJSONDecodeError\u001b[0m: Expecting value: line 1 column 1 (char 0)",
      "\nDuring handling of the above exception, another exception occurred:\n",
      "\u001b[1;31mJSONDecodeError\u001b[0m                           Traceback (most recent call last)",
      "Cell \u001b[1;32mIn[8], line 3\u001b[0m\n\u001b[0;32m      1\u001b[0m \u001b[38;5;66;03m# Convert the response variable to json and store it as a variable named cme_json\u001b[39;00m\n\u001b[1;32m----> 3\u001b[0m cme_json \u001b[38;5;241m=\u001b[39m cme_response\u001b[38;5;241m.\u001b[39mjson()\n\u001b[0;32m      5\u001b[0m cme_json\n",
      "File \u001b[1;32mc:\\Users\\ssarv\\anaconda3\\Lib\\site-packages\\requests\\models.py:978\u001b[0m, in \u001b[0;36mResponse.json\u001b[1;34m(self, **kwargs)\u001b[0m\n\u001b[0;32m    974\u001b[0m     \u001b[38;5;28;01mreturn\u001b[39;00m complexjson\u001b[38;5;241m.\u001b[39mloads(\u001b[38;5;28mself\u001b[39m\u001b[38;5;241m.\u001b[39mtext, \u001b[38;5;241m*\u001b[39m\u001b[38;5;241m*\u001b[39mkwargs)\n\u001b[0;32m    975\u001b[0m \u001b[38;5;28;01mexcept\u001b[39;00m JSONDecodeError \u001b[38;5;28;01mas\u001b[39;00m e:\n\u001b[0;32m    976\u001b[0m     \u001b[38;5;66;03m# Catch JSON-related errors and raise as requests.JSONDecodeError\u001b[39;00m\n\u001b[0;32m    977\u001b[0m     \u001b[38;5;66;03m# This aliases json.JSONDecodeError and simplejson.JSONDecodeError\u001b[39;00m\n\u001b[1;32m--> 978\u001b[0m     \u001b[38;5;28;01mraise\u001b[39;00m RequestsJSONDecodeError(e\u001b[38;5;241m.\u001b[39mmsg, e\u001b[38;5;241m.\u001b[39mdoc, e\u001b[38;5;241m.\u001b[39mpos)\n",
      "\u001b[1;31mJSONDecodeError\u001b[0m: Expecting value: line 1 column 1 (char 0)"
     ]
    }
   ],
   "source": [
    "# Convert the response variable to json and store it as a variable named cme_json\n",
    "\n",
    "cme_json = cme_response.json()\n",
    "\n",
    "cme_json\n",
    "\n",
    "\n"
   ]
  },
  {
   "cell_type": "code",
   "execution_count": 14,
   "metadata": {
    "scrolled": true
   },
   "outputs": [
    {
     "ename": "NameError",
     "evalue": "name 'cme_json' is not defined",
     "output_type": "error",
     "traceback": [
      "\u001b[1;31m---------------------------------------------------------------------------\u001b[0m",
      "\u001b[1;31mNameError\u001b[0m                                 Traceback (most recent call last)",
      "Cell \u001b[1;32mIn[14], line 3\u001b[0m\n\u001b[0;32m      1\u001b[0m \u001b[38;5;66;03m# Preview the first result in JSON format\u001b[39;00m\n\u001b[1;32m----> 3\u001b[0m first_result \u001b[38;5;241m=\u001b[39m cme_json[\u001b[38;5;241m0\u001b[39m]\n\u001b[0;32m      5\u001b[0m \u001b[38;5;28mprint\u001b[39m(first_result)\n",
      "\u001b[1;31mNameError\u001b[0m: name 'cme_json' is not defined"
     ]
    }
   ],
   "source": [
    "# Preview the first result in JSON format\n",
    "\n",
    "first_result = cme_json[0]\n",
    "\n",
    "print(first_result)\n",
    "\n",
    "\n",
    "\n",
    "# Use json.dumps with argument indent=4 to format data\n",
    "\n",
    "formatted_data = json.dumps(first_result, indent =4)\n"
   ]
  },
  {
   "cell_type": "code",
   "execution_count": 10,
   "metadata": {},
   "outputs": [
    {
     "ename": "NameError",
     "evalue": "name 'cme_json' is not defined",
     "output_type": "error",
     "traceback": [
      "\u001b[1;31m---------------------------------------------------------------------------\u001b[0m",
      "\u001b[1;31mNameError\u001b[0m                                 Traceback (most recent call last)",
      "Cell \u001b[1;32mIn[10], line 3\u001b[0m\n\u001b[0;32m      1\u001b[0m \u001b[38;5;66;03m# Convert cme_json to a Pandas DataFrame \u001b[39;00m\n\u001b[1;32m----> 3\u001b[0m df_cme_json \u001b[38;5;241m=\u001b[39m pd\u001b[38;5;241m.\u001b[39mDataFrame(cme_json)\n\u001b[0;32m      5\u001b[0m \u001b[38;5;28mprint\u001b[39m(df_cme_json)\n",
      "\u001b[1;31mNameError\u001b[0m: name 'cme_json' is not defined"
     ]
    }
   ],
   "source": [
    "# Convert cme_json to a Pandas DataFrame \n",
    "\n",
    "df_cme_json = pd.DataFrame(cme_json)\n",
    "\n",
    "print(df_cme_json)\n",
    "\n",
    "\n",
    "# Keep only the columns: activityID, startTime, linkedEvents\n",
    "\n",
    "df_cme_json = df_cme_json[['activityID', 'startTime', 'linkedEvents']]\n",
    "\n",
    "\n",
    "\n",
    "\n"
   ]
  },
  {
   "cell_type": "code",
   "execution_count": 7,
   "metadata": {},
   "outputs": [
    {
     "data": {
      "text/html": [
       "<div>\n",
       "<style scoped>\n",
       "    .dataframe tbody tr th:only-of-type {\n",
       "        vertical-align: middle;\n",
       "    }\n",
       "\n",
       "    .dataframe tbody tr th {\n",
       "        vertical-align: top;\n",
       "    }\n",
       "\n",
       "    .dataframe thead th {\n",
       "        text-align: right;\n",
       "    }\n",
       "</style>\n",
       "<table border=\"1\" class=\"dataframe\">\n",
       "  <thead>\n",
       "    <tr style=\"text-align: right;\">\n",
       "      <th></th>\n",
       "      <th>activityID</th>\n",
       "      <th>startTime</th>\n",
       "      <th>linkedEvents</th>\n",
       "    </tr>\n",
       "  </thead>\n",
       "  <tbody>\n",
       "    <tr>\n",
       "      <th>0</th>\n",
       "      <td>2013-05-01T03:12:00-CME-001</td>\n",
       "      <td>2013-05-01T03:12Z</td>\n",
       "      <td>[{'activityID': '2013-05-04T04:52:00-IPS-001'}]</td>\n",
       "    </tr>\n",
       "    <tr>\n",
       "      <th>4</th>\n",
       "      <td>2013-05-03T22:36:00-CME-001</td>\n",
       "      <td>2013-05-03T22:36Z</td>\n",
       "      <td>[{'activityID': '2013-05-07T04:37:00-IPS-001'}]</td>\n",
       "    </tr>\n",
       "    <tr>\n",
       "      <th>7</th>\n",
       "      <td>2013-05-09T19:29:00-CME-001</td>\n",
       "      <td>2013-05-09T19:29Z</td>\n",
       "      <td>[{'activityID': '2013-05-12T23:30:00-IPS-001'}]</td>\n",
       "    </tr>\n",
       "    <tr>\n",
       "      <th>10</th>\n",
       "      <td>2013-05-13T02:54:00-CME-001</td>\n",
       "      <td>2013-05-13T02:54Z</td>\n",
       "      <td>[{'activityID': '2013-05-13T01:53:00-FLR-001'}...</td>\n",
       "    </tr>\n",
       "    <tr>\n",
       "      <th>13</th>\n",
       "      <td>2013-05-13T16:18:00-CME-001</td>\n",
       "      <td>2013-05-13T16:18Z</td>\n",
       "      <td>[{'activityID': '2013-05-13T15:40:00-FLR-001'}...</td>\n",
       "    </tr>\n",
       "  </tbody>\n",
       "</table>\n",
       "</div>"
      ],
      "text/plain": [
       "                     activityID          startTime  \\\n",
       "0   2013-05-01T03:12:00-CME-001  2013-05-01T03:12Z   \n",
       "4   2013-05-03T22:36:00-CME-001  2013-05-03T22:36Z   \n",
       "7   2013-05-09T19:29:00-CME-001  2013-05-09T19:29Z   \n",
       "10  2013-05-13T02:54:00-CME-001  2013-05-13T02:54Z   \n",
       "13  2013-05-13T16:18:00-CME-001  2013-05-13T16:18Z   \n",
       "\n",
       "                                         linkedEvents  \n",
       "0     [{'activityID': '2013-05-04T04:52:00-IPS-001'}]  \n",
       "4     [{'activityID': '2013-05-07T04:37:00-IPS-001'}]  \n",
       "7     [{'activityID': '2013-05-12T23:30:00-IPS-001'}]  \n",
       "10  [{'activityID': '2013-05-13T01:53:00-FLR-001'}...  \n",
       "13  [{'activityID': '2013-05-13T15:40:00-FLR-001'}...  "
      ]
     },
     "execution_count": 7,
     "metadata": {},
     "output_type": "execute_result"
    }
   ],
   "source": [
    "# Notice that the linkedEvents column allows us to identify the corresponding GST\n",
    "\n",
    "# Remove rows with missing 'linkedEvents' since we won't be able to assign these to GSTs\n",
    "\n",
    "df_cme_json = df_cme_json.dropna(subset=['linkedEvents'])\n",
    "\n",
    "print(df_cme_json)\n"
   ]
  },
  {
   "cell_type": "code",
   "execution_count": 8,
   "metadata": {},
   "outputs": [
    {
     "data": {
      "text/html": [
       "<div>\n",
       "<style scoped>\n",
       "    .dataframe tbody tr th:only-of-type {\n",
       "        vertical-align: middle;\n",
       "    }\n",
       "\n",
       "    .dataframe tbody tr th {\n",
       "        vertical-align: top;\n",
       "    }\n",
       "\n",
       "    .dataframe thead th {\n",
       "        text-align: right;\n",
       "    }\n",
       "</style>\n",
       "<table border=\"1\" class=\"dataframe\">\n",
       "  <thead>\n",
       "    <tr style=\"text-align: right;\">\n",
       "      <th></th>\n",
       "      <th>activityID</th>\n",
       "      <th>startTime</th>\n",
       "      <th>linkedEvents</th>\n",
       "    </tr>\n",
       "  </thead>\n",
       "  <tbody>\n",
       "    <tr>\n",
       "      <th>0</th>\n",
       "      <td>2013-05-01T03:12:00-CME-001</td>\n",
       "      <td>2013-05-01T03:12Z</td>\n",
       "      <td>{'activityID': '2013-05-04T04:52:00-IPS-001'}</td>\n",
       "    </tr>\n",
       "    <tr>\n",
       "      <th>1</th>\n",
       "      <td>2013-05-03T22:36:00-CME-001</td>\n",
       "      <td>2013-05-03T22:36Z</td>\n",
       "      <td>{'activityID': '2013-05-07T04:37:00-IPS-001'}</td>\n",
       "    </tr>\n",
       "    <tr>\n",
       "      <th>2</th>\n",
       "      <td>2013-05-09T19:29:00-CME-001</td>\n",
       "      <td>2013-05-09T19:29Z</td>\n",
       "      <td>{'activityID': '2013-05-12T23:30:00-IPS-001'}</td>\n",
       "    </tr>\n",
       "    <tr>\n",
       "      <th>3</th>\n",
       "      <td>2013-05-13T02:54:00-CME-001</td>\n",
       "      <td>2013-05-13T02:54Z</td>\n",
       "      <td>{'activityID': '2013-05-13T01:53:00-FLR-001'}</td>\n",
       "    </tr>\n",
       "    <tr>\n",
       "      <th>4</th>\n",
       "      <td>2013-05-13T02:54:00-CME-001</td>\n",
       "      <td>2013-05-13T02:54Z</td>\n",
       "      <td>{'activityID': '2013-05-13T04:12:00-SEP-001'}</td>\n",
       "    </tr>\n",
       "  </tbody>\n",
       "</table>\n",
       "</div>"
      ],
      "text/plain": [
       "                    activityID          startTime  \\\n",
       "0  2013-05-01T03:12:00-CME-001  2013-05-01T03:12Z   \n",
       "1  2013-05-03T22:36:00-CME-001  2013-05-03T22:36Z   \n",
       "2  2013-05-09T19:29:00-CME-001  2013-05-09T19:29Z   \n",
       "3  2013-05-13T02:54:00-CME-001  2013-05-13T02:54Z   \n",
       "4  2013-05-13T02:54:00-CME-001  2013-05-13T02:54Z   \n",
       "\n",
       "                                    linkedEvents  \n",
       "0  {'activityID': '2013-05-04T04:52:00-IPS-001'}  \n",
       "1  {'activityID': '2013-05-07T04:37:00-IPS-001'}  \n",
       "2  {'activityID': '2013-05-12T23:30:00-IPS-001'}  \n",
       "3  {'activityID': '2013-05-13T01:53:00-FLR-001'}  \n",
       "4  {'activityID': '2013-05-13T04:12:00-SEP-001'}  "
      ]
     },
     "execution_count": 8,
     "metadata": {},
     "output_type": "execute_result"
    }
   ],
   "source": [
    "# Notice that the linkedEvents sometimes contains multiple events per row\n",
    "# Write a nested for loop that iterates first over each row in the cme DataFrame (using the index)\n",
    "# and then iterates over the values in 'linkedEvents' \n",
    "# and adds the elements individually to a list of dictionaries where each row is one element \n",
    "\n",
    "for index, row in df_cme_json.iterrows():\n",
    "    for event in row ['linkedEvents']\n",
    "\n",
    "\n",
    "# Initialize an empty list to store the expanded rows\n",
    "\n",
    "{\n",
    "\n",
    "    }\n",
    "\n",
    "\n",
    "# Iterate over each index in the DataFrame  \n",
    "for index in df_cme_json.index:\n",
    "   \n",
    "    # Iterate over each dictionary in the list\n",
    "    for dictionary in df_cme_json:\n",
    "    \n",
    "      \n",
    "# Create a new DataFrame from the expanded rows\n",
    "\n",
    "expanded_df = pd.DataFrame(df_cme_json)\n"
   ]
  },
  {
   "cell_type": "code",
   "execution_count": 1,
   "metadata": {},
   "outputs": [],
   "source": [
    "# Create a function called extract_activityID_from_dict that takes a dict as input such as in linkedEvents\n",
    "# and verify below that it works as expected using one row from linkedEvents as an example\n",
    "# Be sure to use a try and except block to handle errors\n",
    "\n",
    "def extract_activityID_from_dict(event_dict):\n",
    "    \n",
    "    try:\n",
    " \n",
    "        activity_id = event_dict['activityID']\n",
    "        return activity_id\n",
    "    except KeyError:\n",
    "       \n",
    "        return \"Error: 'activityID' key not found\"\n",
    "    except TypeError:\n",
    "        \n",
    "        return \"Error: Input is not a dictionary\"\n",
    "    except Exception as e:\n",
    "\n",
    "        return f\"Error: {str(e)}\"\n",
    "\n",
    "\n",
    "\n",
    "        # Log the error or print it for debugging\n",
    "\n",
    "result = extract_activityID_from_dict(example_event)\n",
    "print(result)\n",
    "\n",
    "\n"
   ]
  },
  {
   "cell_type": "code",
   "execution_count": 10,
   "metadata": {},
   "outputs": [
    {
     "data": {
      "text/html": [
       "<div>\n",
       "<style scoped>\n",
       "    .dataframe tbody tr th:only-of-type {\n",
       "        vertical-align: middle;\n",
       "    }\n",
       "\n",
       "    .dataframe tbody tr th {\n",
       "        vertical-align: top;\n",
       "    }\n",
       "\n",
       "    .dataframe thead th {\n",
       "        text-align: right;\n",
       "    }\n",
       "</style>\n",
       "<table border=\"1\" class=\"dataframe\">\n",
       "  <thead>\n",
       "    <tr style=\"text-align: right;\">\n",
       "      <th></th>\n",
       "      <th>activityID</th>\n",
       "      <th>startTime</th>\n",
       "      <th>linkedEvents</th>\n",
       "      <th>GST_ActivityID</th>\n",
       "    </tr>\n",
       "  </thead>\n",
       "  <tbody>\n",
       "    <tr>\n",
       "      <th>0</th>\n",
       "      <td>2013-05-01T03:12:00-CME-001</td>\n",
       "      <td>2013-05-01T03:12Z</td>\n",
       "      <td>{'activityID': '2013-05-04T04:52:00-IPS-001'}</td>\n",
       "      <td>2013-05-04T04:52:00-IPS-001</td>\n",
       "    </tr>\n",
       "    <tr>\n",
       "      <th>1</th>\n",
       "      <td>2013-05-03T22:36:00-CME-001</td>\n",
       "      <td>2013-05-03T22:36Z</td>\n",
       "      <td>{'activityID': '2013-05-07T04:37:00-IPS-001'}</td>\n",
       "      <td>2013-05-07T04:37:00-IPS-001</td>\n",
       "    </tr>\n",
       "    <tr>\n",
       "      <th>2</th>\n",
       "      <td>2013-05-09T19:29:00-CME-001</td>\n",
       "      <td>2013-05-09T19:29Z</td>\n",
       "      <td>{'activityID': '2013-05-12T23:30:00-IPS-001'}</td>\n",
       "      <td>2013-05-12T23:30:00-IPS-001</td>\n",
       "    </tr>\n",
       "    <tr>\n",
       "      <th>3</th>\n",
       "      <td>2013-05-13T02:54:00-CME-001</td>\n",
       "      <td>2013-05-13T02:54Z</td>\n",
       "      <td>{'activityID': '2013-05-13T01:53:00-FLR-001'}</td>\n",
       "      <td>2013-05-13T01:53:00-FLR-001</td>\n",
       "    </tr>\n",
       "    <tr>\n",
       "      <th>4</th>\n",
       "      <td>2013-05-13T02:54:00-CME-001</td>\n",
       "      <td>2013-05-13T02:54Z</td>\n",
       "      <td>{'activityID': '2013-05-13T04:12:00-SEP-001'}</td>\n",
       "      <td>2013-05-13T04:12:00-SEP-001</td>\n",
       "    </tr>\n",
       "  </tbody>\n",
       "</table>\n",
       "</div>"
      ],
      "text/plain": [
       "                    activityID          startTime  \\\n",
       "0  2013-05-01T03:12:00-CME-001  2013-05-01T03:12Z   \n",
       "1  2013-05-03T22:36:00-CME-001  2013-05-03T22:36Z   \n",
       "2  2013-05-09T19:29:00-CME-001  2013-05-09T19:29Z   \n",
       "3  2013-05-13T02:54:00-CME-001  2013-05-13T02:54Z   \n",
       "4  2013-05-13T02:54:00-CME-001  2013-05-13T02:54Z   \n",
       "\n",
       "                                    linkedEvents               GST_ActivityID  \n",
       "0  {'activityID': '2013-05-04T04:52:00-IPS-001'}  2013-05-04T04:52:00-IPS-001  \n",
       "1  {'activityID': '2013-05-07T04:37:00-IPS-001'}  2013-05-07T04:37:00-IPS-001  \n",
       "2  {'activityID': '2013-05-12T23:30:00-IPS-001'}  2013-05-12T23:30:00-IPS-001  \n",
       "3  {'activityID': '2013-05-13T01:53:00-FLR-001'}  2013-05-13T01:53:00-FLR-001  \n",
       "4  {'activityID': '2013-05-13T04:12:00-SEP-001'}  2013-05-13T04:12:00-SEP-001  "
      ]
     },
     "execution_count": 10,
     "metadata": {},
     "output_type": "execute_result"
    }
   ],
   "source": [
    "# Apply this function to each row in the 'linkedEvents' column (you can use apply() and a lambda function)\n",
    "# and create a new column called 'GST_ActivityID' using loc indexer:\n",
    "\n",
    "cme_df['GST_ActivityID'] = cme_df['linkedEvents'].apply(lambda x: [extract_activityID_from_dict(event) for event in x])\n"
   ]
  },
  {
   "cell_type": "code",
   "execution_count": 3,
   "metadata": {},
   "outputs": [
    {
     "ename": "NameError",
     "evalue": "name 'df_cme_json' is not defined",
     "output_type": "error",
     "traceback": [
      "\u001b[1;31m---------------------------------------------------------------------------\u001b[0m",
      "\u001b[1;31mNameError\u001b[0m                                 Traceback (most recent call last)",
      "Cell \u001b[1;32mIn[3], line 3\u001b[0m\n\u001b[0;32m      1\u001b[0m \u001b[38;5;66;03m# Remove rows with missing GST_ActivityID, since we can't assign them to GSTs:\u001b[39;00m\n\u001b[1;32m----> 3\u001b[0m df_cme_json \u001b[38;5;241m=\u001b[39m df_cme_json[ (cme_df[\u001b[38;5;124m'\u001b[39m\u001b[38;5;124mGST_ActivityID\u001b[39m\u001b[38;5;124m'\u001b[39m]\u001b[38;5;241m.\u001b[39mnotna()) \u001b[38;5;241m&\u001b[39m (df_cme_json[\u001b[38;5;124m'\u001b[39m\u001b[38;5;124mGST_ActivityID\u001b[39m\u001b[38;5;124m'\u001b[39m]\u001b[38;5;241m.\u001b[39mastype(\u001b[38;5;28mbool\u001b[39m)) ]\n",
      "\u001b[1;31mNameError\u001b[0m: name 'df_cme_json' is not defined"
     ]
    }
   ],
   "source": [
    "# Remove rows with missing GST_ActivityID, since we can't assign them to GSTs:\n",
    "\n",
    "df_cme_json = df_cme_json[ (cme_df['GST_ActivityID'].notna()) & (df_cme_json['GST_ActivityID'].astype(bool)) ]\n",
    "\n",
    "\n"
   ]
  },
  {
   "cell_type": "code",
   "execution_count": 4,
   "metadata": {},
   "outputs": [
    {
     "ename": "NameError",
     "evalue": "name 'df_cme_json' is not defined",
     "output_type": "error",
     "traceback": [
      "\u001b[1;31m---------------------------------------------------------------------------\u001b[0m",
      "\u001b[1;31mNameError\u001b[0m                                 Traceback (most recent call last)",
      "Cell \u001b[1;32mIn[4], line 3\u001b[0m\n\u001b[0;32m      1\u001b[0m \u001b[38;5;66;03m# print out the datatype of each column in this DataFrame:\u001b[39;00m\n\u001b[1;32m----> 3\u001b[0m \u001b[38;5;28mprint\u001b[39m(df_cme_json\u001b[38;5;241m.\u001b[39mdtypes)\n",
      "\u001b[1;31mNameError\u001b[0m: name 'df_cme_json' is not defined"
     ]
    }
   ],
   "source": [
    "# print out the datatype of each column in this DataFrame:\n",
    "\n",
    "print(df_cme_json.dtypes)\n",
    "\n",
    "\n"
   ]
  },
  {
   "cell_type": "code",
   "execution_count": 13,
   "metadata": {},
   "outputs": [
    {
     "name": "stdout",
     "output_type": "stream",
     "text": [
      "<class 'pandas.core.frame.DataFrame'>\n",
      "RangeIndex: 1807 entries, 0 to 1806\n",
      "Data columns (total 3 columns):\n",
      " #   Column          Non-Null Count  Dtype              \n",
      "---  ------          --------------  -----              \n",
      " 0   cmeID           1807 non-null   object             \n",
      " 1   startTime_CME   1807 non-null   datetime64[ns, UTC]\n",
      " 2   GST_ActivityID  1807 non-null   string             \n",
      "dtypes: datetime64[ns, UTC](1), object(1), string(1)\n",
      "memory usage: 42.5+ KB\n"
     ]
    }
   ],
   "source": [
    "# Convert the 'GST_ActivityID' column to string format \n",
    "\n",
    "df_cme_json['GST_ActivityID'] = df_cme_json['GST_ActivityID'].astype(str)\n",
    "\n",
    "# Convert startTime to datetime format  \n",
    "\n",
    "df_cme_json['startTime'] = pd.to_datetime(df_cme_json['startTime']\n",
    "# Rename startTime to startTime_CME and activityID to cmeID\n",
    "\n",
    "df_cme_json.rename(columns={'startTime': 'startTime_CME', 'activityID': 'cmeID'}\n",
    "\n",
    "\n",
    "# Drop linkedEvents\n",
    "\n",
    "df_cme_json.drop(columns=['linkedEvents'], inplace=True)\n",
    "\n",
    "# Verify that all steps were executed correctly\n",
    "\n",
    "\n",
    "\n",
    "\n"
   ]
  },
  {
   "cell_type": "code",
   "execution_count": 14,
   "metadata": {},
   "outputs": [
    {
     "data": {
      "text/html": [
       "<div>\n",
       "<style scoped>\n",
       "    .dataframe tbody tr th:only-of-type {\n",
       "        vertical-align: middle;\n",
       "    }\n",
       "\n",
       "    .dataframe tbody tr th {\n",
       "        vertical-align: top;\n",
       "    }\n",
       "\n",
       "    .dataframe thead th {\n",
       "        text-align: right;\n",
       "    }\n",
       "</style>\n",
       "<table border=\"1\" class=\"dataframe\">\n",
       "  <thead>\n",
       "    <tr style=\"text-align: right;\">\n",
       "      <th></th>\n",
       "      <th>cmeID</th>\n",
       "      <th>startTime_CME</th>\n",
       "      <th>GST_ActivityID</th>\n",
       "    </tr>\n",
       "  </thead>\n",
       "  <tbody>\n",
       "    <tr>\n",
       "      <th>21</th>\n",
       "      <td>2013-06-02T20:24:00-CME-001</td>\n",
       "      <td>2013-06-02 20:24:00+00:00</td>\n",
       "      <td>2013-06-07T03:00:00-GST-001</td>\n",
       "    </tr>\n",
       "    <tr>\n",
       "      <th>48</th>\n",
       "      <td>2013-09-29T22:40:00-CME-001</td>\n",
       "      <td>2013-09-29 22:40:00+00:00</td>\n",
       "      <td>2013-10-02T03:00:00-GST-001</td>\n",
       "    </tr>\n",
       "    <tr>\n",
       "      <th>90</th>\n",
       "      <td>2013-12-04T23:12:00-CME-001</td>\n",
       "      <td>2013-12-04 23:12:00+00:00</td>\n",
       "      <td>2013-12-08T00:00:00-GST-001</td>\n",
       "    </tr>\n",
       "    <tr>\n",
       "      <th>148</th>\n",
       "      <td>2014-02-16T14:15:00-CME-001</td>\n",
       "      <td>2014-02-16 14:15:00+00:00</td>\n",
       "      <td>2014-02-19T03:00:00-GST-001</td>\n",
       "    </tr>\n",
       "    <tr>\n",
       "      <th>151</th>\n",
       "      <td>2014-02-18T01:25:00-CME-001</td>\n",
       "      <td>2014-02-18 01:25:00+00:00</td>\n",
       "      <td>2014-02-20T03:00:00-GST-001</td>\n",
       "    </tr>\n",
       "  </tbody>\n",
       "</table>\n",
       "</div>"
      ],
      "text/plain": [
       "                           cmeID             startTime_CME  \\\n",
       "21   2013-06-02T20:24:00-CME-001 2013-06-02 20:24:00+00:00   \n",
       "48   2013-09-29T22:40:00-CME-001 2013-09-29 22:40:00+00:00   \n",
       "90   2013-12-04T23:12:00-CME-001 2013-12-04 23:12:00+00:00   \n",
       "148  2014-02-16T14:15:00-CME-001 2014-02-16 14:15:00+00:00   \n",
       "151  2014-02-18T01:25:00-CME-001 2014-02-18 01:25:00+00:00   \n",
       "\n",
       "                  GST_ActivityID  \n",
       "21   2013-06-07T03:00:00-GST-001  \n",
       "48   2013-10-02T03:00:00-GST-001  \n",
       "90   2013-12-08T00:00:00-GST-001  \n",
       "148  2014-02-19T03:00:00-GST-001  \n",
       "151  2014-02-20T03:00:00-GST-001  "
      ]
     },
     "execution_count": 14,
     "metadata": {},
     "output_type": "execute_result"
    }
   ],
   "source": [
    "# We are only interested in CMEs related to GSTs so keep only rows where the GST_ActivityID column contains 'GST'\n",
    "# use the method 'contains()' from the str library.  \n",
    "\n",
    "filtered_df = df_cme_json[df_cme_json['GST_ActivityID'].str.contains('GST')]\n"
   ]
  },
  {
   "cell_type": "markdown",
   "metadata": {},
   "source": [
    "### GST Data"
   ]
  },
  {
   "cell_type": "code",
   "execution_count": 2,
   "metadata": {},
   "outputs": [
    {
     "ename": "SyntaxError",
     "evalue": "leading zeros in decimal integer literals are not permitted; use an 0o prefix for octal integers (1271852991.py, line 13)",
     "output_type": "error",
     "traceback": [
      "\u001b[1;36m  Cell \u001b[1;32mIn[2], line 13\u001b[1;36m\u001b[0m\n\u001b[1;33m    gst_url = https://api.nasa.gov/DONKI/?startDate=2013-05-01&endDate=2024-05-01&api_key=R9MfW9P16td8abYzgxKTv5Ba7QRj5ec68cwUXvyV\u001b[0m\n\u001b[1;37m                                                         ^\u001b[0m\n\u001b[1;31mSyntaxError\u001b[0m\u001b[1;31m:\u001b[0m leading zeros in decimal integer literals are not permitted; use an 0o prefix for octal integers\n"
     ]
    }
   ],
   "source": [
    "# Set the base URL to NASA's DONKI API:\n",
    "base_url = \"https://api.nasa.gov/DONKI/\"\n",
    "\n",
    "# Set the specifier for Geomagnetic Storms (GST):\n",
    "GST = \"GST\"\n",
    "\n",
    "# Search for GSTs between a begin and end date\n",
    "startDate = \"2013-05-01\"\n",
    "endDate   = \"2024-05-01\"\n",
    "\n",
    "# Build URL for GST\n",
    "\n",
    "gst_url = https://api.nasa.gov/DONKI/?startDate=2013-05-01&endDate=2024-05-01&api_key=R9MfW9P16td8abYzgxKTv5Ba7QRj5ec68cwUXvyV\n",
    "\n",
    "\n"
   ]
  },
  {
   "cell_type": "code",
   "execution_count": 16,
   "metadata": {},
   "outputs": [],
   "source": [
    "# Make a \"GET\" request for the GST URL and store it in a variable named gst_response\n"
   ]
  },
  {
   "cell_type": "code",
   "execution_count": 17,
   "metadata": {},
   "outputs": [
    {
     "name": "stdout",
     "output_type": "stream",
     "text": [
      "[\n",
      "    {\n",
      "        \"gstID\": \"2013-06-01T01:00:00-GST-001\",\n",
      "        \"startTime\": \"2013-06-01T01:00Z\",\n",
      "        \"allKpIndex\": [\n",
      "            {\n",
      "                \"observedTime\": \"2013-06-01T01:00Z\",\n",
      "                \"kpIndex\": 6.0,\n",
      "                \"source\": \"NOAA\"\n",
      "            }\n",
      "        ],\n",
      "        \"linkedEvents\": [\n",
      "            {\n",
      "                \"activityID\": \"2013-05-31T15:45:00-HSS-001\"\n",
      "            }\n",
      "        ],\n",
      "        \"link\": \"https://webtools.ccmc.gsfc.nasa.gov/DONKI/view/GST/326/-1\",\n",
      "        \"submissionTime\": \"2013-07-15T19:26Z\"\n",
      "    }\n",
      "]\n"
     ]
    }
   ],
   "source": [
    "# Convert the response variable to json and store it as a variable named gst_json\n",
    "\n",
    "# Preview the first result in JSON format\n",
    "# Use json.dumps with argument indent=4 to format data\n"
   ]
  },
  {
   "cell_type": "code",
   "execution_count": 18,
   "metadata": {},
   "outputs": [
    {
     "data": {
      "text/html": [
       "<div>\n",
       "<style scoped>\n",
       "    .dataframe tbody tr th:only-of-type {\n",
       "        vertical-align: middle;\n",
       "    }\n",
       "\n",
       "    .dataframe tbody tr th {\n",
       "        vertical-align: top;\n",
       "    }\n",
       "\n",
       "    .dataframe thead th {\n",
       "        text-align: right;\n",
       "    }\n",
       "</style>\n",
       "<table border=\"1\" class=\"dataframe\">\n",
       "  <thead>\n",
       "    <tr style=\"text-align: right;\">\n",
       "      <th></th>\n",
       "      <th>gstID</th>\n",
       "      <th>startTime</th>\n",
       "      <th>linkedEvents</th>\n",
       "    </tr>\n",
       "  </thead>\n",
       "  <tbody>\n",
       "    <tr>\n",
       "      <th>0</th>\n",
       "      <td>2013-06-01T01:00:00-GST-001</td>\n",
       "      <td>2013-06-01T01:00Z</td>\n",
       "      <td>[{'activityID': '2013-05-31T15:45:00-HSS-001'}]</td>\n",
       "    </tr>\n",
       "    <tr>\n",
       "      <th>1</th>\n",
       "      <td>2013-06-07T03:00:00-GST-001</td>\n",
       "      <td>2013-06-07T03:00Z</td>\n",
       "      <td>[{'activityID': '2013-06-02T20:24:00-CME-001'}]</td>\n",
       "    </tr>\n",
       "    <tr>\n",
       "      <th>2</th>\n",
       "      <td>2013-06-29T03:00:00-GST-001</td>\n",
       "      <td>2013-06-29T03:00Z</td>\n",
       "      <td>None</td>\n",
       "    </tr>\n",
       "    <tr>\n",
       "      <th>3</th>\n",
       "      <td>2013-10-02T03:00:00-GST-001</td>\n",
       "      <td>2013-10-02T03:00Z</td>\n",
       "      <td>[{'activityID': '2013-09-29T22:40:00-CME-001'}...</td>\n",
       "    </tr>\n",
       "    <tr>\n",
       "      <th>4</th>\n",
       "      <td>2013-12-08T00:00:00-GST-001</td>\n",
       "      <td>2013-12-08T00:00Z</td>\n",
       "      <td>[{'activityID': '2013-12-04T23:12:00-CME-001'}...</td>\n",
       "    </tr>\n",
       "  </tbody>\n",
       "</table>\n",
       "</div>"
      ],
      "text/plain": [
       "                         gstID          startTime  \\\n",
       "0  2013-06-01T01:00:00-GST-001  2013-06-01T01:00Z   \n",
       "1  2013-06-07T03:00:00-GST-001  2013-06-07T03:00Z   \n",
       "2  2013-06-29T03:00:00-GST-001  2013-06-29T03:00Z   \n",
       "3  2013-10-02T03:00:00-GST-001  2013-10-02T03:00Z   \n",
       "4  2013-12-08T00:00:00-GST-001  2013-12-08T00:00Z   \n",
       "\n",
       "                                        linkedEvents  \n",
       "0    [{'activityID': '2013-05-31T15:45:00-HSS-001'}]  \n",
       "1    [{'activityID': '2013-06-02T20:24:00-CME-001'}]  \n",
       "2                                               None  \n",
       "3  [{'activityID': '2013-09-29T22:40:00-CME-001'}...  \n",
       "4  [{'activityID': '2013-12-04T23:12:00-CME-001'}...  "
      ]
     },
     "execution_count": 18,
     "metadata": {},
     "output_type": "execute_result"
    }
   ],
   "source": [
    "# Convert gst_json to a Pandas DataFrame  \n",
    "\n",
    "# Keep only the columns: activityID, startTime, linkedEvents\n"
   ]
  },
  {
   "cell_type": "code",
   "execution_count": 19,
   "metadata": {},
   "outputs": [
    {
     "data": {
      "text/html": [
       "<div>\n",
       "<style scoped>\n",
       "    .dataframe tbody tr th:only-of-type {\n",
       "        vertical-align: middle;\n",
       "    }\n",
       "\n",
       "    .dataframe tbody tr th {\n",
       "        vertical-align: top;\n",
       "    }\n",
       "\n",
       "    .dataframe thead th {\n",
       "        text-align: right;\n",
       "    }\n",
       "</style>\n",
       "<table border=\"1\" class=\"dataframe\">\n",
       "  <thead>\n",
       "    <tr style=\"text-align: right;\">\n",
       "      <th></th>\n",
       "      <th>gstID</th>\n",
       "      <th>startTime</th>\n",
       "      <th>linkedEvents</th>\n",
       "    </tr>\n",
       "  </thead>\n",
       "  <tbody>\n",
       "    <tr>\n",
       "      <th>0</th>\n",
       "      <td>2013-06-01T01:00:00-GST-001</td>\n",
       "      <td>2013-06-01T01:00Z</td>\n",
       "      <td>[{'activityID': '2013-05-31T15:45:00-HSS-001'}]</td>\n",
       "    </tr>\n",
       "    <tr>\n",
       "      <th>1</th>\n",
       "      <td>2013-06-07T03:00:00-GST-001</td>\n",
       "      <td>2013-06-07T03:00Z</td>\n",
       "      <td>[{'activityID': '2013-06-02T20:24:00-CME-001'}]</td>\n",
       "    </tr>\n",
       "    <tr>\n",
       "      <th>3</th>\n",
       "      <td>2013-10-02T03:00:00-GST-001</td>\n",
       "      <td>2013-10-02T03:00Z</td>\n",
       "      <td>[{'activityID': '2013-09-29T22:40:00-CME-001'}...</td>\n",
       "    </tr>\n",
       "    <tr>\n",
       "      <th>4</th>\n",
       "      <td>2013-12-08T00:00:00-GST-001</td>\n",
       "      <td>2013-12-08T00:00Z</td>\n",
       "      <td>[{'activityID': '2013-12-04T23:12:00-CME-001'}...</td>\n",
       "    </tr>\n",
       "    <tr>\n",
       "      <th>5</th>\n",
       "      <td>2014-02-19T03:00:00-GST-001</td>\n",
       "      <td>2014-02-19T03:00Z</td>\n",
       "      <td>[{'activityID': '2014-02-16T14:15:00-CME-001'}...</td>\n",
       "    </tr>\n",
       "  </tbody>\n",
       "</table>\n",
       "</div>"
      ],
      "text/plain": [
       "                         gstID          startTime  \\\n",
       "0  2013-06-01T01:00:00-GST-001  2013-06-01T01:00Z   \n",
       "1  2013-06-07T03:00:00-GST-001  2013-06-07T03:00Z   \n",
       "3  2013-10-02T03:00:00-GST-001  2013-10-02T03:00Z   \n",
       "4  2013-12-08T00:00:00-GST-001  2013-12-08T00:00Z   \n",
       "5  2014-02-19T03:00:00-GST-001  2014-02-19T03:00Z   \n",
       "\n",
       "                                        linkedEvents  \n",
       "0    [{'activityID': '2013-05-31T15:45:00-HSS-001'}]  \n",
       "1    [{'activityID': '2013-06-02T20:24:00-CME-001'}]  \n",
       "3  [{'activityID': '2013-09-29T22:40:00-CME-001'}...  \n",
       "4  [{'activityID': '2013-12-04T23:12:00-CME-001'}...  \n",
       "5  [{'activityID': '2014-02-16T14:15:00-CME-001'}...  "
      ]
     },
     "execution_count": 19,
     "metadata": {},
     "output_type": "execute_result"
    }
   ],
   "source": [
    "# Notice that the linkedEvents column allows us to identify the corresponding CME\n",
    "# Remove rows with missing 'linkedEvents' since we won't be able to assign these to CME\n"
   ]
  },
  {
   "cell_type": "code",
   "execution_count": 20,
   "metadata": {},
   "outputs": [],
   "source": [
    "# Notice that the linkedEvents sometimes contains multiple events per row\n",
    "# Use the explode method to ensure that each row is one element. Ensure to reset the index and drop missing values.\n"
   ]
  },
  {
   "cell_type": "code",
   "execution_count": 21,
   "metadata": {},
   "outputs": [
    {
     "data": {
      "text/html": [
       "<div>\n",
       "<style scoped>\n",
       "    .dataframe tbody tr th:only-of-type {\n",
       "        vertical-align: middle;\n",
       "    }\n",
       "\n",
       "    .dataframe tbody tr th {\n",
       "        vertical-align: top;\n",
       "    }\n",
       "\n",
       "    .dataframe thead th {\n",
       "        text-align: right;\n",
       "    }\n",
       "</style>\n",
       "<table border=\"1\" class=\"dataframe\">\n",
       "  <thead>\n",
       "    <tr style=\"text-align: right;\">\n",
       "      <th></th>\n",
       "      <th>gstID</th>\n",
       "      <th>startTime</th>\n",
       "      <th>linkedEvents</th>\n",
       "      <th>CME_ActivityID</th>\n",
       "    </tr>\n",
       "  </thead>\n",
       "  <tbody>\n",
       "    <tr>\n",
       "      <th>0</th>\n",
       "      <td>2013-06-01T01:00:00-GST-001</td>\n",
       "      <td>2013-06-01T01:00Z</td>\n",
       "      <td>{'activityID': '2013-05-31T15:45:00-HSS-001'}</td>\n",
       "      <td>2013-05-31T15:45:00-HSS-001</td>\n",
       "    </tr>\n",
       "    <tr>\n",
       "      <th>1</th>\n",
       "      <td>2013-06-07T03:00:00-GST-001</td>\n",
       "      <td>2013-06-07T03:00Z</td>\n",
       "      <td>{'activityID': '2013-06-02T20:24:00-CME-001'}</td>\n",
       "      <td>2013-06-02T20:24:00-CME-001</td>\n",
       "    </tr>\n",
       "    <tr>\n",
       "      <th>2</th>\n",
       "      <td>2013-10-02T03:00:00-GST-001</td>\n",
       "      <td>2013-10-02T03:00Z</td>\n",
       "      <td>{'activityID': '2013-09-29T22:40:00-CME-001'}</td>\n",
       "      <td>2013-09-29T22:40:00-CME-001</td>\n",
       "    </tr>\n",
       "    <tr>\n",
       "      <th>3</th>\n",
       "      <td>2013-10-02T03:00:00-GST-001</td>\n",
       "      <td>2013-10-02T03:00Z</td>\n",
       "      <td>{'activityID': '2013-10-02T01:54:00-IPS-001'}</td>\n",
       "      <td>2013-10-02T01:54:00-IPS-001</td>\n",
       "    </tr>\n",
       "    <tr>\n",
       "      <th>4</th>\n",
       "      <td>2013-10-02T03:00:00-GST-001</td>\n",
       "      <td>2013-10-02T03:00Z</td>\n",
       "      <td>{'activityID': '2013-10-02T02:47:00-MPC-001'}</td>\n",
       "      <td>2013-10-02T02:47:00-MPC-001</td>\n",
       "    </tr>\n",
       "  </tbody>\n",
       "</table>\n",
       "</div>"
      ],
      "text/plain": [
       "                         gstID          startTime  \\\n",
       "0  2013-06-01T01:00:00-GST-001  2013-06-01T01:00Z   \n",
       "1  2013-06-07T03:00:00-GST-001  2013-06-07T03:00Z   \n",
       "2  2013-10-02T03:00:00-GST-001  2013-10-02T03:00Z   \n",
       "3  2013-10-02T03:00:00-GST-001  2013-10-02T03:00Z   \n",
       "4  2013-10-02T03:00:00-GST-001  2013-10-02T03:00Z   \n",
       "\n",
       "                                    linkedEvents               CME_ActivityID  \n",
       "0  {'activityID': '2013-05-31T15:45:00-HSS-001'}  2013-05-31T15:45:00-HSS-001  \n",
       "1  {'activityID': '2013-06-02T20:24:00-CME-001'}  2013-06-02T20:24:00-CME-001  \n",
       "2  {'activityID': '2013-09-29T22:40:00-CME-001'}  2013-09-29T22:40:00-CME-001  \n",
       "3  {'activityID': '2013-10-02T01:54:00-IPS-001'}  2013-10-02T01:54:00-IPS-001  \n",
       "4  {'activityID': '2013-10-02T02:47:00-MPC-001'}  2013-10-02T02:47:00-MPC-001  "
      ]
     },
     "execution_count": 21,
     "metadata": {},
     "output_type": "execute_result"
    }
   ],
   "source": [
    "# Apply the extract_activityID_from_dict function to each row in the 'linkedEvents' column (you can use apply() and a lambda function)\n",
    "# and create a new column called 'CME_ActivityID' using loc indexer:\n",
    "\n",
    "# Remove rows with missing CME_ActivityID, since we can't assign them to CMEs:\n"
   ]
  },
  {
   "cell_type": "code",
   "execution_count": 22,
   "metadata": {},
   "outputs": [
    {
     "name": "stdout",
     "output_type": "stream",
     "text": [
      "<class 'pandas.core.frame.DataFrame'>\n",
      "RangeIndex: 217 entries, 0 to 216\n",
      "Data columns (total 3 columns):\n",
      " #   Column          Non-Null Count  Dtype              \n",
      "---  ------          --------------  -----              \n",
      " 0   gstID           217 non-null    string             \n",
      " 1   startTime_GST   217 non-null    datetime64[ns, UTC]\n",
      " 2   CME_ActivityID  217 non-null    string             \n",
      "dtypes: datetime64[ns, UTC](1), string(2)\n",
      "memory usage: 5.2 KB\n"
     ]
    }
   ],
   "source": [
    "# Convert the 'CME_ActivityID' column to string format \n",
    "\n",
    "# Convert the 'gstID' column to string format \n",
    "\n",
    "# Convert startTime to datetime format  \n",
    "\n",
    "# Rename startTime to startTime_GST \n",
    "\n",
    "# Drop linkedEvents\n",
    "\n",
    "# Verify that all steps were executed correctly\n"
   ]
  },
  {
   "cell_type": "code",
   "execution_count": 23,
   "metadata": {},
   "outputs": [
    {
     "data": {
      "text/html": [
       "<div>\n",
       "<style scoped>\n",
       "    .dataframe tbody tr th:only-of-type {\n",
       "        vertical-align: middle;\n",
       "    }\n",
       "\n",
       "    .dataframe tbody tr th {\n",
       "        vertical-align: top;\n",
       "    }\n",
       "\n",
       "    .dataframe thead th {\n",
       "        text-align: right;\n",
       "    }\n",
       "</style>\n",
       "<table border=\"1\" class=\"dataframe\">\n",
       "  <thead>\n",
       "    <tr style=\"text-align: right;\">\n",
       "      <th></th>\n",
       "      <th>gstID</th>\n",
       "      <th>startTime_GST</th>\n",
       "      <th>CME_ActivityID</th>\n",
       "    </tr>\n",
       "  </thead>\n",
       "  <tbody>\n",
       "    <tr>\n",
       "      <th>1</th>\n",
       "      <td>2013-06-07T03:00:00-GST-001</td>\n",
       "      <td>2013-06-07 03:00:00+00:00</td>\n",
       "      <td>2013-06-02T20:24:00-CME-001</td>\n",
       "    </tr>\n",
       "    <tr>\n",
       "      <th>2</th>\n",
       "      <td>2013-10-02T03:00:00-GST-001</td>\n",
       "      <td>2013-10-02 03:00:00+00:00</td>\n",
       "      <td>2013-09-29T22:40:00-CME-001</td>\n",
       "    </tr>\n",
       "    <tr>\n",
       "      <th>5</th>\n",
       "      <td>2013-12-08T00:00:00-GST-001</td>\n",
       "      <td>2013-12-08 00:00:00+00:00</td>\n",
       "      <td>2013-12-04T23:12:00-CME-001</td>\n",
       "    </tr>\n",
       "    <tr>\n",
       "      <th>7</th>\n",
       "      <td>2014-02-19T03:00:00-GST-001</td>\n",
       "      <td>2014-02-19 03:00:00+00:00</td>\n",
       "      <td>2014-02-16T14:15:00-CME-001</td>\n",
       "    </tr>\n",
       "    <tr>\n",
       "      <th>9</th>\n",
       "      <td>2014-02-20T03:00:00-GST-001</td>\n",
       "      <td>2014-02-20 03:00:00+00:00</td>\n",
       "      <td>2014-02-18T01:25:00-CME-001</td>\n",
       "    </tr>\n",
       "  </tbody>\n",
       "</table>\n",
       "</div>"
      ],
      "text/plain": [
       "                         gstID             startTime_GST  \\\n",
       "1  2013-06-07T03:00:00-GST-001 2013-06-07 03:00:00+00:00   \n",
       "2  2013-10-02T03:00:00-GST-001 2013-10-02 03:00:00+00:00   \n",
       "5  2013-12-08T00:00:00-GST-001 2013-12-08 00:00:00+00:00   \n",
       "7  2014-02-19T03:00:00-GST-001 2014-02-19 03:00:00+00:00   \n",
       "9  2014-02-20T03:00:00-GST-001 2014-02-20 03:00:00+00:00   \n",
       "\n",
       "                CME_ActivityID  \n",
       "1  2013-06-02T20:24:00-CME-001  \n",
       "2  2013-09-29T22:40:00-CME-001  \n",
       "5  2013-12-04T23:12:00-CME-001  \n",
       "7  2014-02-16T14:15:00-CME-001  \n",
       "9  2014-02-18T01:25:00-CME-001  "
      ]
     },
     "execution_count": 23,
     "metadata": {},
     "output_type": "execute_result"
    }
   ],
   "source": [
    "# We are only interested in GSTs related to CMEs so keep only rows where the CME_ActivityID column contains 'CME'\n",
    "# use the method 'contains()' from the str library.  \n"
   ]
  },
  {
   "cell_type": "markdown",
   "metadata": {},
   "source": [
    "### Merge both datatsets"
   ]
  },
  {
   "cell_type": "code",
   "execution_count": 24,
   "metadata": {},
   "outputs": [
    {
     "data": {
      "text/html": [
       "<div>\n",
       "<style scoped>\n",
       "    .dataframe tbody tr th:only-of-type {\n",
       "        vertical-align: middle;\n",
       "    }\n",
       "\n",
       "    .dataframe tbody tr th {\n",
       "        vertical-align: top;\n",
       "    }\n",
       "\n",
       "    .dataframe thead th {\n",
       "        text-align: right;\n",
       "    }\n",
       "</style>\n",
       "<table border=\"1\" class=\"dataframe\">\n",
       "  <thead>\n",
       "    <tr style=\"text-align: right;\">\n",
       "      <th></th>\n",
       "      <th>gstID</th>\n",
       "      <th>startTime_GST</th>\n",
       "      <th>CME_ActivityID</th>\n",
       "      <th>cmeID</th>\n",
       "      <th>startTime_CME</th>\n",
       "      <th>GST_ActivityID</th>\n",
       "    </tr>\n",
       "  </thead>\n",
       "  <tbody>\n",
       "    <tr>\n",
       "      <th>0</th>\n",
       "      <td>2013-06-07T03:00:00-GST-001</td>\n",
       "      <td>2013-06-07 03:00:00+00:00</td>\n",
       "      <td>2013-06-02T20:24:00-CME-001</td>\n",
       "      <td>2013-06-02T20:24:00-CME-001</td>\n",
       "      <td>2013-06-02 20:24:00+00:00</td>\n",
       "      <td>2013-06-07T03:00:00-GST-001</td>\n",
       "    </tr>\n",
       "    <tr>\n",
       "      <th>1</th>\n",
       "      <td>2013-10-02T03:00:00-GST-001</td>\n",
       "      <td>2013-10-02 03:00:00+00:00</td>\n",
       "      <td>2013-09-29T22:40:00-CME-001</td>\n",
       "      <td>2013-09-29T22:40:00-CME-001</td>\n",
       "      <td>2013-09-29 22:40:00+00:00</td>\n",
       "      <td>2013-10-02T03:00:00-GST-001</td>\n",
       "    </tr>\n",
       "    <tr>\n",
       "      <th>2</th>\n",
       "      <td>2013-12-08T00:00:00-GST-001</td>\n",
       "      <td>2013-12-08 00:00:00+00:00</td>\n",
       "      <td>2013-12-04T23:12:00-CME-001</td>\n",
       "      <td>2013-12-04T23:12:00-CME-001</td>\n",
       "      <td>2013-12-04 23:12:00+00:00</td>\n",
       "      <td>2013-12-08T00:00:00-GST-001</td>\n",
       "    </tr>\n",
       "    <tr>\n",
       "      <th>3</th>\n",
       "      <td>2014-02-19T03:00:00-GST-001</td>\n",
       "      <td>2014-02-19 03:00:00+00:00</td>\n",
       "      <td>2014-02-16T14:15:00-CME-001</td>\n",
       "      <td>2014-02-16T14:15:00-CME-001</td>\n",
       "      <td>2014-02-16 14:15:00+00:00</td>\n",
       "      <td>2014-02-19T03:00:00-GST-001</td>\n",
       "    </tr>\n",
       "    <tr>\n",
       "      <th>4</th>\n",
       "      <td>2014-02-20T03:00:00-GST-001</td>\n",
       "      <td>2014-02-20 03:00:00+00:00</td>\n",
       "      <td>2014-02-18T01:25:00-CME-001</td>\n",
       "      <td>2014-02-18T01:25:00-CME-001</td>\n",
       "      <td>2014-02-18 01:25:00+00:00</td>\n",
       "      <td>2014-02-20T03:00:00-GST-001</td>\n",
       "    </tr>\n",
       "  </tbody>\n",
       "</table>\n",
       "</div>"
      ],
      "text/plain": [
       "                         gstID             startTime_GST  \\\n",
       "0  2013-06-07T03:00:00-GST-001 2013-06-07 03:00:00+00:00   \n",
       "1  2013-10-02T03:00:00-GST-001 2013-10-02 03:00:00+00:00   \n",
       "2  2013-12-08T00:00:00-GST-001 2013-12-08 00:00:00+00:00   \n",
       "3  2014-02-19T03:00:00-GST-001 2014-02-19 03:00:00+00:00   \n",
       "4  2014-02-20T03:00:00-GST-001 2014-02-20 03:00:00+00:00   \n",
       "\n",
       "                CME_ActivityID                        cmeID  \\\n",
       "0  2013-06-02T20:24:00-CME-001  2013-06-02T20:24:00-CME-001   \n",
       "1  2013-09-29T22:40:00-CME-001  2013-09-29T22:40:00-CME-001   \n",
       "2  2013-12-04T23:12:00-CME-001  2013-12-04T23:12:00-CME-001   \n",
       "3  2014-02-16T14:15:00-CME-001  2014-02-16T14:15:00-CME-001   \n",
       "4  2014-02-18T01:25:00-CME-001  2014-02-18T01:25:00-CME-001   \n",
       "\n",
       "              startTime_CME               GST_ActivityID  \n",
       "0 2013-06-02 20:24:00+00:00  2013-06-07T03:00:00-GST-001  \n",
       "1 2013-09-29 22:40:00+00:00  2013-10-02T03:00:00-GST-001  \n",
       "2 2013-12-04 23:12:00+00:00  2013-12-08T00:00:00-GST-001  \n",
       "3 2014-02-16 14:15:00+00:00  2014-02-19T03:00:00-GST-001  \n",
       "4 2014-02-18 01:25:00+00:00  2014-02-20T03:00:00-GST-001  "
      ]
     },
     "execution_count": 24,
     "metadata": {},
     "output_type": "execute_result"
    }
   ],
   "source": [
    "# Now merge both datasets using 'gstID' and 'CME_ActivityID' for gst and 'GST_ActivityID' and 'cmeID' for cme. Use the 'left_on' and 'right_on' specifiers.\n"
   ]
  },
  {
   "cell_type": "code",
   "execution_count": 25,
   "metadata": {},
   "outputs": [
    {
     "name": "stdout",
     "output_type": "stream",
     "text": [
      "<class 'pandas.core.frame.DataFrame'>\n",
      "RangeIndex: 67 entries, 0 to 66\n",
      "Data columns (total 6 columns):\n",
      " #   Column          Non-Null Count  Dtype              \n",
      "---  ------          --------------  -----              \n",
      " 0   gstID           67 non-null     string             \n",
      " 1   startTime_GST   67 non-null     datetime64[ns, UTC]\n",
      " 2   CME_ActivityID  67 non-null     object             \n",
      " 3   cmeID           67 non-null     object             \n",
      " 4   startTime_CME   67 non-null     datetime64[ns, UTC]\n",
      " 5   GST_ActivityID  67 non-null     string             \n",
      "dtypes: datetime64[ns, UTC](2), object(2), string(2)\n",
      "memory usage: 3.3+ KB\n"
     ]
    }
   ],
   "source": [
    "# Verify that the new DataFrame has the same number of rows as cme and gst\n"
   ]
  },
  {
   "cell_type": "markdown",
   "metadata": {},
   "source": [
    "### Computing the time it takes for a CME to cause a GST"
   ]
  },
  {
   "cell_type": "code",
   "execution_count": 26,
   "metadata": {},
   "outputs": [
    {
     "data": {
      "text/html": [
       "<div>\n",
       "<style scoped>\n",
       "    .dataframe tbody tr th:only-of-type {\n",
       "        vertical-align: middle;\n",
       "    }\n",
       "\n",
       "    .dataframe tbody tr th {\n",
       "        vertical-align: top;\n",
       "    }\n",
       "\n",
       "    .dataframe thead th {\n",
       "        text-align: right;\n",
       "    }\n",
       "</style>\n",
       "<table border=\"1\" class=\"dataframe\">\n",
       "  <thead>\n",
       "    <tr style=\"text-align: right;\">\n",
       "      <th></th>\n",
       "      <th>gstID</th>\n",
       "      <th>startTime_GST</th>\n",
       "      <th>CME_ActivityID</th>\n",
       "      <th>cmeID</th>\n",
       "      <th>startTime_CME</th>\n",
       "      <th>GST_ActivityID</th>\n",
       "      <th>timeDiff</th>\n",
       "    </tr>\n",
       "  </thead>\n",
       "  <tbody>\n",
       "    <tr>\n",
       "      <th>0</th>\n",
       "      <td>2013-06-07T03:00:00-GST-001</td>\n",
       "      <td>2013-06-07 03:00:00+00:00</td>\n",
       "      <td>2013-06-02T20:24:00-CME-001</td>\n",
       "      <td>2013-06-02T20:24:00-CME-001</td>\n",
       "      <td>2013-06-02 20:24:00+00:00</td>\n",
       "      <td>2013-06-07T03:00:00-GST-001</td>\n",
       "      <td>4 days 06:36:00</td>\n",
       "    </tr>\n",
       "    <tr>\n",
       "      <th>1</th>\n",
       "      <td>2013-10-02T03:00:00-GST-001</td>\n",
       "      <td>2013-10-02 03:00:00+00:00</td>\n",
       "      <td>2013-09-29T22:40:00-CME-001</td>\n",
       "      <td>2013-09-29T22:40:00-CME-001</td>\n",
       "      <td>2013-09-29 22:40:00+00:00</td>\n",
       "      <td>2013-10-02T03:00:00-GST-001</td>\n",
       "      <td>2 days 04:20:00</td>\n",
       "    </tr>\n",
       "    <tr>\n",
       "      <th>2</th>\n",
       "      <td>2013-12-08T00:00:00-GST-001</td>\n",
       "      <td>2013-12-08 00:00:00+00:00</td>\n",
       "      <td>2013-12-04T23:12:00-CME-001</td>\n",
       "      <td>2013-12-04T23:12:00-CME-001</td>\n",
       "      <td>2013-12-04 23:12:00+00:00</td>\n",
       "      <td>2013-12-08T00:00:00-GST-001</td>\n",
       "      <td>3 days 00:48:00</td>\n",
       "    </tr>\n",
       "    <tr>\n",
       "      <th>3</th>\n",
       "      <td>2014-02-19T03:00:00-GST-001</td>\n",
       "      <td>2014-02-19 03:00:00+00:00</td>\n",
       "      <td>2014-02-16T14:15:00-CME-001</td>\n",
       "      <td>2014-02-16T14:15:00-CME-001</td>\n",
       "      <td>2014-02-16 14:15:00+00:00</td>\n",
       "      <td>2014-02-19T03:00:00-GST-001</td>\n",
       "      <td>2 days 12:45:00</td>\n",
       "    </tr>\n",
       "    <tr>\n",
       "      <th>4</th>\n",
       "      <td>2014-02-20T03:00:00-GST-001</td>\n",
       "      <td>2014-02-20 03:00:00+00:00</td>\n",
       "      <td>2014-02-18T01:25:00-CME-001</td>\n",
       "      <td>2014-02-18T01:25:00-CME-001</td>\n",
       "      <td>2014-02-18 01:25:00+00:00</td>\n",
       "      <td>2014-02-20T03:00:00-GST-001</td>\n",
       "      <td>2 days 01:35:00</td>\n",
       "    </tr>\n",
       "  </tbody>\n",
       "</table>\n",
       "</div>"
      ],
      "text/plain": [
       "                         gstID             startTime_GST  \\\n",
       "0  2013-06-07T03:00:00-GST-001 2013-06-07 03:00:00+00:00   \n",
       "1  2013-10-02T03:00:00-GST-001 2013-10-02 03:00:00+00:00   \n",
       "2  2013-12-08T00:00:00-GST-001 2013-12-08 00:00:00+00:00   \n",
       "3  2014-02-19T03:00:00-GST-001 2014-02-19 03:00:00+00:00   \n",
       "4  2014-02-20T03:00:00-GST-001 2014-02-20 03:00:00+00:00   \n",
       "\n",
       "                CME_ActivityID                        cmeID  \\\n",
       "0  2013-06-02T20:24:00-CME-001  2013-06-02T20:24:00-CME-001   \n",
       "1  2013-09-29T22:40:00-CME-001  2013-09-29T22:40:00-CME-001   \n",
       "2  2013-12-04T23:12:00-CME-001  2013-12-04T23:12:00-CME-001   \n",
       "3  2014-02-16T14:15:00-CME-001  2014-02-16T14:15:00-CME-001   \n",
       "4  2014-02-18T01:25:00-CME-001  2014-02-18T01:25:00-CME-001   \n",
       "\n",
       "              startTime_CME               GST_ActivityID        timeDiff  \n",
       "0 2013-06-02 20:24:00+00:00  2013-06-07T03:00:00-GST-001 4 days 06:36:00  \n",
       "1 2013-09-29 22:40:00+00:00  2013-10-02T03:00:00-GST-001 2 days 04:20:00  \n",
       "2 2013-12-04 23:12:00+00:00  2013-12-08T00:00:00-GST-001 3 days 00:48:00  \n",
       "3 2014-02-16 14:15:00+00:00  2014-02-19T03:00:00-GST-001 2 days 12:45:00  \n",
       "4 2014-02-18 01:25:00+00:00  2014-02-20T03:00:00-GST-001 2 days 01:35:00  "
      ]
     },
     "execution_count": 26,
     "metadata": {},
     "output_type": "execute_result"
    }
   ],
   "source": [
    "# Compute the time diff between startTime_GST and startTime_CME by creating a new column called `timeDiff`.\n"
   ]
  },
  {
   "cell_type": "code",
   "execution_count": 27,
   "metadata": {},
   "outputs": [
    {
     "data": {
      "text/html": [
       "<div>\n",
       "<style scoped>\n",
       "    .dataframe tbody tr th:only-of-type {\n",
       "        vertical-align: middle;\n",
       "    }\n",
       "\n",
       "    .dataframe tbody tr th {\n",
       "        vertical-align: top;\n",
       "    }\n",
       "\n",
       "    .dataframe thead th {\n",
       "        text-align: right;\n",
       "    }\n",
       "</style>\n",
       "<table border=\"1\" class=\"dataframe\">\n",
       "  <thead>\n",
       "    <tr style=\"text-align: right;\">\n",
       "      <th></th>\n",
       "      <th>timeDiff</th>\n",
       "    </tr>\n",
       "  </thead>\n",
       "  <tbody>\n",
       "    <tr>\n",
       "      <th>count</th>\n",
       "      <td>67</td>\n",
       "    </tr>\n",
       "    <tr>\n",
       "      <th>mean</th>\n",
       "      <td>2 days 21:35:13.432835820</td>\n",
       "    </tr>\n",
       "    <tr>\n",
       "      <th>std</th>\n",
       "      <td>1 days 00:02:46.681279427</td>\n",
       "    </tr>\n",
       "    <tr>\n",
       "      <th>min</th>\n",
       "      <td>1 days 05:36:00</td>\n",
       "    </tr>\n",
       "    <tr>\n",
       "      <th>25%</th>\n",
       "      <td>2 days 03:12:00</td>\n",
       "    </tr>\n",
       "    <tr>\n",
       "      <th>50%</th>\n",
       "      <td>2 days 17:48:00</td>\n",
       "    </tr>\n",
       "    <tr>\n",
       "      <th>75%</th>\n",
       "      <td>3 days 12:17:00</td>\n",
       "    </tr>\n",
       "    <tr>\n",
       "      <th>max</th>\n",
       "      <td>6 days 03:00:00</td>\n",
       "    </tr>\n",
       "  </tbody>\n",
       "</table>\n",
       "</div>"
      ],
      "text/plain": [
       "                        timeDiff\n",
       "count                         67\n",
       "mean   2 days 21:35:13.432835820\n",
       "std    1 days 00:02:46.681279427\n",
       "min              1 days 05:36:00\n",
       "25%              2 days 03:12:00\n",
       "50%              2 days 17:48:00\n",
       "75%              3 days 12:17:00\n",
       "max              6 days 03:00:00"
      ]
     },
     "execution_count": 27,
     "metadata": {},
     "output_type": "execute_result"
    }
   ],
   "source": [
    "# Use describe() to compute the mean and median time \n",
    "# that it takes for a CME to cause a GST. \n"
   ]
  },
  {
   "cell_type": "markdown",
   "metadata": {},
   "source": [
    "### Exporting data in csv format"
   ]
  },
  {
   "cell_type": "code",
   "execution_count": 28,
   "metadata": {},
   "outputs": [],
   "source": [
    "# Export data to CSV without the index\n"
   ]
  }
 ],
 "metadata": {
  "kernelspec": {
   "display_name": "Python 3 (ipykernel)",
   "language": "python",
   "name": "python3"
  },
  "language_info": {
   "codemirror_mode": {
    "name": "ipython",
    "version": 3
   },
   "file_extension": ".py",
   "mimetype": "text/x-python",
   "name": "python",
   "nbconvert_exporter": "python",
   "pygments_lexer": "ipython3",
   "version": "3.12.3"
  },
  "varInspector": {
   "cols": {
    "lenName": 16,
    "lenType": 16,
    "lenVar": 40
   },
   "kernels_config": {
    "python": {
     "delete_cmd_postfix": "",
     "delete_cmd_prefix": "del ",
     "library": "var_list.py",
     "varRefreshCmd": "print(var_dic_list())"
    },
    "r": {
     "delete_cmd_postfix": ") ",
     "delete_cmd_prefix": "rm(",
     "library": "var_list.r",
     "varRefreshCmd": "cat(var_dic_list()) "
    }
   },
   "types_to_exclude": [
    "module",
    "function",
    "builtin_function_or_method",
    "instance",
    "_Feature"
   ],
   "window_display": false
  }
 },
 "nbformat": 4,
 "nbformat_minor": 4
}
